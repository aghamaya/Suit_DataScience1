{
 "cells": [
  {
   "cell_type": "markdown",
   "metadata": {},
   "source": [
    "# Suite du projet de deploiement d'une application BI et ML:\n",
    "Approche Business Intelligence et Machine Learning pour alimenter les cadres de prise de décision d’une institution. Cas d’usage d’une Combinaison SQL Server, Power BI et Python pour analyser des tendances et prédire des comportements clients d’une Société au Mali.\n",
    "Il s'agira ici d'apprecier le meilleur model possible autour des comportements entreprises suite à une segmentation client generée dans Power BI"
   ]
  },
  {
   "cell_type": "markdown",
   "metadata": {},
   "source": [
    "## Chargement des librairies courantes"
   ]
  },
  {
   "cell_type": "code",
   "execution_count": 1,
   "metadata": {
    "ExecuteTime": {
     "end_time": "2021-06-26T23:27:44.390157Z",
     "start_time": "2021-06-26T23:27:42.323965Z"
    }
   },
   "outputs": [],
   "source": [
    "import numpy as np\n",
    "import pandas as pd\n",
    "import matplotlib.pyplot as plt\n",
    "import seaborn as sns"
   ]
  },
  {
   "cell_type": "markdown",
   "metadata": {},
   "source": [
    "## importation des données "
   ]
  },
  {
   "cell_type": "code",
   "execution_count": 2,
   "metadata": {
    "ExecuteTime": {
     "end_time": "2021-06-26T23:28:01.326514Z",
     "start_time": "2021-06-26T23:27:53.254172Z"
    }
   },
   "outputs": [
    {
     "data": {
      "text/html": [
       "<div>\n",
       "<style scoped>\n",
       "    .dataframe tbody tr th:only-of-type {\n",
       "        vertical-align: middle;\n",
       "    }\n",
       "\n",
       "    .dataframe tbody tr th {\n",
       "        vertical-align: top;\n",
       "    }\n",
       "\n",
       "    .dataframe thead th {\n",
       "        text-align: right;\n",
       "    }\n",
       "</style>\n",
       "<table border=\"1\" class=\"dataframe\">\n",
       "  <thead>\n",
       "    <tr style=\"text-align: right;\">\n",
       "      <th></th>\n",
       "      <th>NumeroFacture</th>\n",
       "      <th>Qte</th>\n",
       "      <th>PrixUnit</th>\n",
       "      <th>MontantVentes</th>\n",
       "      <th>PoidsNet</th>\n",
       "      <th>Clients</th>\n",
       "      <th>Performance</th>\n",
       "      <th>Produits</th>\n",
       "      <th>Cout</th>\n",
       "      <th>Groupes</th>\n",
       "      <th>...</th>\n",
       "      <th>Status</th>\n",
       "      <th>SecteurActivites</th>\n",
       "      <th>Ville</th>\n",
       "      <th>PersonneV</th>\n",
       "      <th>GenrePv</th>\n",
       "      <th>Superviseur</th>\n",
       "      <th>GenreSup</th>\n",
       "      <th>Manager</th>\n",
       "      <th>GenreMger</th>\n",
       "      <th>Equipe</th>\n",
       "    </tr>\n",
       "  </thead>\n",
       "  <tbody>\n",
       "    <tr>\n",
       "      <th>0</th>\n",
       "      <td>1492762</td>\n",
       "      <td>6</td>\n",
       "      <td>8.83</td>\n",
       "      <td>52.98</td>\n",
       "      <td>0.60</td>\n",
       "      <td>Entreprise1838</td>\n",
       "      <td>Bon</td>\n",
       "      <td>Produit1656</td>\n",
       "      <td>6.073152</td>\n",
       "      <td>Épices</td>\n",
       "      <td>...</td>\n",
       "      <td>A</td>\n",
       "      <td>Distributeurs Lv2</td>\n",
       "      <td>Bougouni</td>\n",
       "      <td>Agaichatou MAIGA</td>\n",
       "      <td>Femme</td>\n",
       "      <td>Aissata COULIBALY</td>\n",
       "      <td>Femme</td>\n",
       "      <td>Idrissa DAFF</td>\n",
       "      <td>Homme</td>\n",
       "      <td>Distributeurs</td>\n",
       "    </tr>\n",
       "    <tr>\n",
       "      <th>1</th>\n",
       "      <td>1492762</td>\n",
       "      <td>6</td>\n",
       "      <td>4.44</td>\n",
       "      <td>26.64</td>\n",
       "      <td>5.40</td>\n",
       "      <td>Entreprise1838</td>\n",
       "      <td>Bon</td>\n",
       "      <td>Produit1674</td>\n",
       "      <td>3.188543</td>\n",
       "      <td>Dosettes de café</td>\n",
       "      <td>...</td>\n",
       "      <td>A</td>\n",
       "      <td>Distributeurs Lv2</td>\n",
       "      <td>Bougouni</td>\n",
       "      <td>Agaichatou MAIGA</td>\n",
       "      <td>Femme</td>\n",
       "      <td>Aissata COULIBALY</td>\n",
       "      <td>Femme</td>\n",
       "      <td>Idrissa DAFF</td>\n",
       "      <td>Homme</td>\n",
       "      <td>Distributeurs</td>\n",
       "    </tr>\n",
       "    <tr>\n",
       "      <th>2</th>\n",
       "      <td>1492762</td>\n",
       "      <td>10</td>\n",
       "      <td>0.96</td>\n",
       "      <td>9.60</td>\n",
       "      <td>1.92</td>\n",
       "      <td>Entreprise1838</td>\n",
       "      <td>Bon</td>\n",
       "      <td>Produit1340</td>\n",
       "      <td>0.629295</td>\n",
       "      <td>Levure</td>\n",
       "      <td>...</td>\n",
       "      <td>A</td>\n",
       "      <td>Distributeurs Lv2</td>\n",
       "      <td>Bougouni</td>\n",
       "      <td>Agaichatou MAIGA</td>\n",
       "      <td>Femme</td>\n",
       "      <td>Aissata COULIBALY</td>\n",
       "      <td>Femme</td>\n",
       "      <td>Idrissa DAFF</td>\n",
       "      <td>Homme</td>\n",
       "      <td>Distributeurs</td>\n",
       "    </tr>\n",
       "    <tr>\n",
       "      <th>3</th>\n",
       "      <td>1492719</td>\n",
       "      <td>6</td>\n",
       "      <td>2.92</td>\n",
       "      <td>17.52</td>\n",
       "      <td>1.26</td>\n",
       "      <td>Entreprise1834</td>\n",
       "      <td>Bon</td>\n",
       "      <td>Produit1665</td>\n",
       "      <td>1.915015</td>\n",
       "      <td>Pop corn</td>\n",
       "      <td>...</td>\n",
       "      <td>A</td>\n",
       "      <td>Distributeurs Lv2</td>\n",
       "      <td>Bougouni</td>\n",
       "      <td>Agaichatou MAIGA</td>\n",
       "      <td>Femme</td>\n",
       "      <td>Aissata COULIBALY</td>\n",
       "      <td>Femme</td>\n",
       "      <td>Idrissa DAFF</td>\n",
       "      <td>Homme</td>\n",
       "      <td>Distributeurs</td>\n",
       "    </tr>\n",
       "    <tr>\n",
       "      <th>4</th>\n",
       "      <td>1492719</td>\n",
       "      <td>6</td>\n",
       "      <td>2.81</td>\n",
       "      <td>16.86</td>\n",
       "      <td>1.40</td>\n",
       "      <td>Entreprise1834</td>\n",
       "      <td>Bon</td>\n",
       "      <td>Produit1680</td>\n",
       "      <td>1.844057</td>\n",
       "      <td>Pop corn</td>\n",
       "      <td>...</td>\n",
       "      <td>A</td>\n",
       "      <td>Distributeurs Lv2</td>\n",
       "      <td>Bougouni</td>\n",
       "      <td>Agaichatou MAIGA</td>\n",
       "      <td>Femme</td>\n",
       "      <td>Aissata COULIBALY</td>\n",
       "      <td>Femme</td>\n",
       "      <td>Idrissa DAFF</td>\n",
       "      <td>Homme</td>\n",
       "      <td>Distributeurs</td>\n",
       "    </tr>\n",
       "  </tbody>\n",
       "</table>\n",
       "<p>5 rows × 21 columns</p>\n",
       "</div>"
      ],
      "text/plain": [
       "   NumeroFacture  Qte  PrixUnit  MontantVentes  PoidsNet         Clients  \\\n",
       "0        1492762    6      8.83          52.98      0.60  Entreprise1838   \n",
       "1        1492762    6      4.44          26.64      5.40  Entreprise1838   \n",
       "2        1492762   10      0.96           9.60      1.92  Entreprise1838   \n",
       "3        1492719    6      2.92          17.52      1.26  Entreprise1834   \n",
       "4        1492719    6      2.81          16.86      1.40  Entreprise1834   \n",
       "\n",
       "  Performance     Produits      Cout           Groupes  ... Status  \\\n",
       "0         Bon  Produit1656  6.073152            Épices  ...      A   \n",
       "1         Bon  Produit1674  3.188543  Dosettes de café  ...      A   \n",
       "2         Bon  Produit1340  0.629295            Levure  ...      A   \n",
       "3         Bon  Produit1665  1.915015          Pop corn  ...      A   \n",
       "4         Bon  Produit1680  1.844057          Pop corn  ...      A   \n",
       "\n",
       "    SecteurActivites     Ville         PersonneV GenrePv        Superviseur  \\\n",
       "0  Distributeurs Lv2  Bougouni  Agaichatou MAIGA   Femme  Aissata COULIBALY   \n",
       "1  Distributeurs Lv2  Bougouni  Agaichatou MAIGA   Femme  Aissata COULIBALY   \n",
       "2  Distributeurs Lv2  Bougouni  Agaichatou MAIGA   Femme  Aissata COULIBALY   \n",
       "3  Distributeurs Lv2  Bougouni  Agaichatou MAIGA   Femme  Aissata COULIBALY   \n",
       "4  Distributeurs Lv2  Bougouni  Agaichatou MAIGA   Femme  Aissata COULIBALY   \n",
       "\n",
       "  GenreSup       Manager GenreMger         Equipe  \n",
       "0    Femme  Idrissa DAFF     Homme  Distributeurs  \n",
       "1    Femme  Idrissa DAFF     Homme  Distributeurs  \n",
       "2    Femme  Idrissa DAFF     Homme  Distributeurs  \n",
       "3    Femme  Idrissa DAFF     Homme  Distributeurs  \n",
       "4    Femme  Idrissa DAFF     Homme  Distributeurs  \n",
       "\n",
       "[5 rows x 21 columns]"
      ]
     },
     "execution_count": 2,
     "metadata": {},
     "output_type": "execute_result"
    }
   ],
   "source": [
    "url = \"https://gitlab.com/Hamayaag/suiteprojetfinformationhamaya/-/raw/master/Data.csv\"\n",
    "data = pd.read_csv(url)\n",
    "data.head()"
   ]
  },
  {
   "cell_type": "code",
   "execution_count": 3,
   "metadata": {
    "ExecuteTime": {
     "end_time": "2021-06-26T23:28:06.850056Z",
     "start_time": "2021-06-26T23:28:06.839098Z"
    }
   },
   "outputs": [
    {
     "data": {
      "text/plain": [
       "(260096, 21)"
      ]
     },
     "execution_count": 3,
     "metadata": {},
     "output_type": "execute_result"
    }
   ],
   "source": [
    "data.shape"
   ]
  },
  {
   "cell_type": "markdown",
   "metadata": {
    "ExecuteTime": {
     "end_time": "2021-06-16T12:43:56.453580Z",
     "start_time": "2021-06-16T12:43:56.441358Z"
    }
   },
   "source": [
    "## Exploratory Data Analysis\n",
    "\n",
    "### Objectif :\n",
    "- Comprendre du mieux possible nos données\n",
    "- Développer une premiere stratégie de modélisation \n",
    "\n",
    "### Analyse de Forme :\n",
    "- **Affichage des columns** : ['NumeroFacture', 'Qte', 'PrixUnit', 'MontantVentes', 'PoidsNet',\n",
    "       'Clients', 'Performance', 'Produits', 'Cout', 'Groupes', 'Categories',\n",
    "       'Status', 'SecteurActivites', 'Ville', 'PersonneV', 'GenrePv',\n",
    "       'Superviseur', 'GenreSup', 'Manager', 'GenreMger', 'Equipe']\n",
    "- **variable target** : performance (niveau de performance des entreprises fonction du %Marge Brut determiné en 3 classes: Bon, Median, Mauvais)\n",
    "- **lignes et colonnes** : 260096 et 21\n",
    "- **types de variables** : qualitatives 16 et quantitative 5\n",
    "- **Analyse des valeurs manquantes** : pas de valeur manquante dans les données\n",
    "\n",
    "### Analyse de Fond :\n",
    "- **Elimination des colonnes unitiles** : RAS\n",
    "\n",
    "- **Visualisation de la target** :\n",
    "    55% bon, 38% Median et 7% Mauvais en terme de niveau de performance des Entreprises\n",
    "    \n",
    "- **Signification des variables** : les histogrammes des variables continues prouve qu'il y a necessité de les normalisés (aucune des variables ne suit une loi normale). Aussi, nous remarquons qu'il y a des sumularité d'une part entre PrixUnit et PoidsNet et d'autre part entre MontantVentes et Cout centrés à 0, idem pour la variable Qte. Pour les variables qualitatives, necessité de faire un travaille de preprocessing, de preference avec OneHotEncoder, car certaines variables compte des centaines des modalités, notamment Clients avec 1272, Produit avec 798, etc.\n",
    "\n",
    "\n",
    "- **Relation Variables / Target** :\n",
    "\n",
    "\n",
    "### Analyse plus détaillée\n",
    "\n",
    "- **Relation Variables / Variables** :"
   ]
  },
  {
   "cell_type": "markdown",
   "metadata": {},
   "source": [
    "#### Analyse de Forme :"
   ]
  },
  {
   "cell_type": "code",
   "execution_count": 5,
   "metadata": {
    "ExecuteTime": {
     "end_time": "2021-06-26T23:35:08.732979Z",
     "start_time": "2021-06-26T23:35:08.701942Z"
    }
   },
   "outputs": [],
   "source": [
    "df = data.copy()"
   ]
  },
  {
   "cell_type": "code",
   "execution_count": 48,
   "metadata": {
    "ExecuteTime": {
     "end_time": "2021-06-18T01:37:59.992926Z",
     "start_time": "2021-06-18T01:37:59.980991Z"
    }
   },
   "outputs": [
    {
     "data": {
      "text/plain": [
       "Index(['NumeroFacture', 'Qte', 'PrixUnit', 'MontantVentes', 'PoidsNet',\n",
       "       'Clients', 'Performance', 'Produits', 'Cout', 'Groupes', 'Categories',\n",
       "       'Status', 'SecteurActivites', 'Ville', 'PersonneV', 'GenrePv',\n",
       "       'Superviseur', 'GenreSup', 'Manager', 'GenreMger', 'Equipe'],\n",
       "      dtype='object')"
      ]
     },
     "execution_count": 48,
     "metadata": {},
     "output_type": "execute_result"
    }
   ],
   "source": [
    "df.columns"
   ]
  },
  {
   "cell_type": "code",
   "execution_count": 49,
   "metadata": {
    "ExecuteTime": {
     "end_time": "2021-06-18T01:38:01.536891Z",
     "start_time": "2021-06-18T01:38:01.531932Z"
    }
   },
   "outputs": [
    {
     "data": {
      "text/plain": [
       "(260096, 21)"
      ]
     },
     "execution_count": 49,
     "metadata": {},
     "output_type": "execute_result"
    }
   ],
   "source": [
    "df.shape"
   ]
  },
  {
   "cell_type": "code",
   "execution_count": 50,
   "metadata": {
    "ExecuteTime": {
     "end_time": "2021-06-18T01:38:07.779946Z",
     "start_time": "2021-06-18T01:38:07.764367Z"
    }
   },
   "outputs": [
    {
     "data": {
      "text/plain": [
       "object     15\n",
       "float64     4\n",
       "int64       2\n",
       "dtype: int64"
      ]
     },
     "execution_count": 50,
     "metadata": {},
     "output_type": "execute_result"
    }
   ],
   "source": [
    "df.dtypes.value_counts() # ou en camamber df.dtypes.value_counts().plot.pie()"
   ]
  },
  {
   "cell_type": "code",
   "execution_count": 6,
   "metadata": {
    "ExecuteTime": {
     "end_time": "2021-06-26T23:35:22.047562Z",
     "start_time": "2021-06-26T23:35:21.879828Z"
    }
   },
   "outputs": [],
   "source": [
    "df[\"NumeroFacture\"] = df[\"NumeroFacture\"].astype(str)"
   ]
  },
  {
   "cell_type": "code",
   "execution_count": 52,
   "metadata": {
    "ExecuteTime": {
     "end_time": "2021-06-18T01:38:24.676087Z",
     "start_time": "2021-06-18T01:38:24.462972Z"
    }
   },
   "outputs": [
    {
     "name": "stdout",
     "output_type": "stream",
     "text": [
      "<class 'pandas.core.frame.DataFrame'>\n",
      "RangeIndex: 260096 entries, 0 to 260095\n",
      "Data columns (total 21 columns):\n",
      " #   Column            Non-Null Count   Dtype  \n",
      "---  ------            --------------   -----  \n",
      " 0   NumeroFacture     260096 non-null  object \n",
      " 1   Qte               260096 non-null  int64  \n",
      " 2   PrixUnit          260096 non-null  float64\n",
      " 3   MontantVentes     260096 non-null  float64\n",
      " 4   PoidsNet          260096 non-null  float64\n",
      " 5   Clients           260096 non-null  object \n",
      " 6   Performance       260096 non-null  object \n",
      " 7   Produits          260096 non-null  object \n",
      " 8   Cout              260096 non-null  float64\n",
      " 9   Groupes           260096 non-null  object \n",
      " 10  Categories        260096 non-null  object \n",
      " 11  Status            260096 non-null  object \n",
      " 12  SecteurActivites  260096 non-null  object \n",
      " 13  Ville             260096 non-null  object \n",
      " 14  PersonneV         260096 non-null  object \n",
      " 15  GenrePv           260096 non-null  object \n",
      " 16  Superviseur       260096 non-null  object \n",
      " 17  GenreSup          260096 non-null  object \n",
      " 18  Manager           260096 non-null  object \n",
      " 19  GenreMger         260096 non-null  object \n",
      " 20  Equipe            260096 non-null  object \n",
      "dtypes: float64(4), int64(1), object(16)\n",
      "memory usage: 41.7+ MB\n"
     ]
    }
   ],
   "source": [
    "df.info()"
   ]
  },
  {
   "cell_type": "code",
   "execution_count": 53,
   "metadata": {
    "ExecuteTime": {
     "end_time": "2021-06-18T01:38:27.504985Z",
     "start_time": "2021-06-18T01:38:27.343960Z"
    }
   },
   "outputs": [
    {
     "data": {
      "text/plain": [
       "NumeroFacture       0\n",
       "Qte                 0\n",
       "PrixUnit            0\n",
       "MontantVentes       0\n",
       "PoidsNet            0\n",
       "Clients             0\n",
       "Performance         0\n",
       "Produits            0\n",
       "Cout                0\n",
       "Groupes             0\n",
       "Categories          0\n",
       "Status              0\n",
       "SecteurActivites    0\n",
       "Ville               0\n",
       "PersonneV           0\n",
       "GenrePv             0\n",
       "Superviseur         0\n",
       "GenreSup            0\n",
       "Manager             0\n",
       "GenreMger           0\n",
       "Equipe              0\n",
       "dtype: int64"
      ]
     },
     "execution_count": 53,
     "metadata": {},
     "output_type": "execute_result"
    }
   ],
   "source": [
    "df.isna().sum()"
   ]
  },
  {
   "cell_type": "code",
   "execution_count": 54,
   "metadata": {
    "ExecuteTime": {
     "end_time": "2021-06-18T01:38:32.476433Z",
     "start_time": "2021-06-18T01:38:28.597416Z"
    }
   },
   "outputs": [
    {
     "data": {
      "text/plain": [
       "<matplotlib.axes._subplots.AxesSubplot at 0x2b23e4d08e0>"
      ]
     },
     "execution_count": 54,
     "metadata": {},
     "output_type": "execute_result"
    },
    {
     "data": {
      "image/png": "[encoded data removed]",
      "text/plain": [
       "<Figure size 1440x720 with 1 Axes>"
      ]
     },
     "metadata": {
      "needs_background": "light"
     },
     "output_type": "display_data"
    }
   ],
   "source": [
    "# Ce heatmap confirme qu'il n' y pas de valeur manquante dans les données\n",
    "plt.figure(figsize=(20,10))\n",
    "sns.heatmap(df.isna(), cbar=False)"
   ]
  },
  {
   "cell_type": "markdown",
   "metadata": {},
   "source": [
    "1.3.5.2  Analyse de Fond :"
   ]
  },
  {
   "cell_type": "code",
   "execution_count": 8,
   "metadata": {
    "ExecuteTime": {
     "end_time": "2021-06-26T23:37:23.128635Z",
     "start_time": "2021-06-26T23:37:23.080633Z"
    }
   },
   "outputs": [
    {
     "data": {
      "text/plain": [
       "Bon        55.089275\n",
       "Median     38.423505\n",
       "Mauvais     6.487220\n",
       "Name: Performance, dtype: float64"
      ]
     },
     "execution_count": 8,
     "metadata": {},
     "output_type": "execute_result"
    }
   ],
   "source": [
    "df[\"Performance\"].value_counts(normalize = True)*100  #f[\"Target\"].value_counts()"
   ]
  },
  {
   "cell_type": "markdown",
   "metadata": {
    "ExecuteTime": {
     "end_time": "2021-06-16T12:52:29.680449Z",
     "start_time": "2021-06-16T12:52:29.670369Z"
    }
   },
   "source": [
    "Histogramme des variables continues"
   ]
  },
  {
   "cell_type": "code",
   "execution_count": 56,
   "metadata": {
    "ExecuteTime": {
     "end_time": "2021-06-18T01:38:43.133261Z",
     "start_time": "2021-06-18T01:38:42.290610Z"
    }
   },
   "outputs": [
    {
     "data": {
      "image/png": "[encoded data removed]",
      "text/plain": [
       "<Figure size 432x288 with 1 Axes>"
      ]
     },
     "metadata": {
      "needs_background": "light"
     },
     "output_type": "display_data"
    },
    {
     "data": {
      "image/png": "[encoded data removed]",
      "text/plain": [
       "<Figure size 432x288 with 1 Axes>"
      ]
     },
     "metadata": {
      "needs_background": "light"
     },
     "output_type": "display_data"
    },
    {
     "data": {
      "image/png": "[encoded data removed]",
      "text/plain": [
       "<Figure size 432x288 with 1 Axes>"
      ]
     },
     "metadata": {
      "needs_background": "light"
     },
     "output_type": "display_data"
    },
    {
     "data": {
      "image/png": "[encoded data removed]",
      "text/plain": [
       "<Figure size 432x288 with 1 Axes>"
      ]
     },
     "metadata": {
      "needs_background": "light"
     },
     "output_type": "display_data"
    }
   ],
   "source": [
    "for col in df.select_dtypes(\"float\"):\n",
    "    plt.figure()\n",
    "    sns.distplot(df[col])"
   ]
  },
  {
   "cell_type": "code",
   "execution_count": 57,
   "metadata": {
    "ExecuteTime": {
     "end_time": "2021-06-18T01:38:45.370854Z",
     "start_time": "2021-06-18T01:38:45.161776Z"
    }
   },
   "outputs": [
    {
     "data": {
      "text/plain": [
       "<matplotlib.axes._subplots.AxesSubplot at 0x2b2608bcc10>"
      ]
     },
     "execution_count": 57,
     "metadata": {},
     "output_type": "execute_result"
    },
    {
     "data": {
      "image/png": "[encoded data removed]",
      "text/plain": [
       "<Figure size 432x288 with 1 Axes>"
      ]
     },
     "metadata": {
      "needs_background": "light"
     },
     "output_type": "display_data"
    }
   ],
   "source": [
    "#Pour la variable qte\n",
    "sns.distplot(df[\"Qte\"])"
   ]
  },
  {
   "cell_type": "markdown",
   "metadata": {},
   "source": [
    "Variables qualitatives¶"
   ]
  },
  {
   "cell_type": "code",
   "execution_count": 58,
   "metadata": {
    "ExecuteTime": {
     "end_time": "2021-06-18T01:38:49.566169Z",
     "start_time": "2021-06-18T01:38:49.338883Z"
    }
   },
   "outputs": [
    {
     "name": "stdout",
     "output_type": "stream",
     "text": [
      "NumeroFacture-------------------------------------: 52560\n",
      "Clients-------------------------------------------: 1272\n",
      "Performance---------------------------------------: 3\n",
      "Produits------------------------------------------: 798\n",
      "Groupes-------------------------------------------: 23\n",
      "Categories----------------------------------------: 2\n",
      "Status--------------------------------------------: 2\n",
      "SecteurActivites----------------------------------: 22\n",
      "Ville---------------------------------------------: 26\n",
      "PersonneV-----------------------------------------: 12\n",
      "GenrePv-------------------------------------------: 2\n",
      "Superviseur---------------------------------------: 5\n",
      "GenreSup------------------------------------------: 2\n",
      "Manager-------------------------------------------: 2\n",
      "GenreMger-----------------------------------------: 2\n",
      "Equipe--------------------------------------------: 3\n"
     ]
    }
   ],
   "source": [
    "for col in df.select_dtypes(\"object\"):\n",
    "    print(f'{col :-<50}: {df[col].nunique()}')"
   ]
  },
  {
   "cell_type": "markdown",
   "metadata": {
    "ExecuteTime": {
     "end_time": "2021-06-16T12:56:29.198770Z",
     "start_time": "2021-06-16T12:56:29.188066Z"
    }
   },
   "source": [
    "1.3.5.3  Relation Target et variables"
   ]
  },
  {
   "cell_type": "code",
   "execution_count": 59,
   "metadata": {
    "ExecuteTime": {
     "end_time": "2021-06-18T01:38:59.335619Z",
     "start_time": "2021-06-18T01:38:59.234958Z"
    }
   },
   "outputs": [],
   "source": [
    "bon_df = df[df[\"Performance\"] == \"Bon\"]\n",
    "median_df = df[df[\"Performance\"] == \"Median\"]\n",
    "mauvais_df = df[df[\"Performance\"] == \"Mauvais\"]"
   ]
  },
  {
   "cell_type": "code",
   "execution_count": 60,
   "metadata": {
    "ExecuteTime": {
     "end_time": "2021-06-18T01:39:06.654919Z",
     "start_time": "2021-06-18T01:39:06.603037Z"
    }
   },
   "outputs": [],
   "source": [
    "quantitatives_df = df[['Qte', 'PrixUnit', 'MontantVentes','PoidsNet', 'Cout']]\n",
    "qualitatives_df = df[['NumeroFacture', 'Produits', 'Groupes', 'Categories', 'Status',\n",
    "       'SecteurActivites', 'Ville', 'PersonneV', 'GenrePv', 'Superviseur',\n",
    "       'GenreSup', 'Manager', 'GenreMger', 'Equipe']]"
   ]
  },
  {
   "cell_type": "code",
   "execution_count": 61,
   "metadata": {
    "ExecuteTime": {
     "end_time": "2021-06-18T01:39:12.767479Z",
     "start_time": "2021-06-18T01:39:10.819583Z"
    }
   },
   "outputs": [
    {
     "data": {
      "image/png": "[encoded data removed]",
      "text/plain": [
       "<Figure size 432x288 with 1 Axes>"
      ]
     },
     "metadata": {
      "needs_background": "light"
     },
     "output_type": "display_data"
    },
    {
     "data": {
      "image/png": "[encoded data removed]",
      "text/plain": [
       "<Figure size 432x288 with 1 Axes>"
      ]
     },
     "metadata": {
      "needs_background": "light"
     },
     "output_type": "display_data"
    },
    {
     "data": {
      "image/png": "[encoded data removed]",
      "text/plain": [
       "<Figure size 432x288 with 1 Axes>"
      ]
     },
     "metadata": {
      "needs_background": "light"
     },
     "output_type": "display_data"
    },
    {
     "data": {
      "image/png": "[encoded data removed]",
      "text/plain": [
       "<Figure size 432x288 with 1 Axes>"
      ]
     },
     "metadata": {
      "needs_background": "light"
     },
     "output_type": "display_data"
    },
    {
     "data": {
      "image/png": "[encoded data removed]",
      "text/plain": [
       "<Figure size 432x288 with 1 Axes>"
      ]
     },
     "metadata": {
      "needs_background": "light"
     },
     "output_type": "display_data"
    }
   ],
   "source": [
    "for col in  quantitatives_df:\n",
    "    plt.figure()\n",
    "    sns.distplot(bon_df[col], label = \"Bon\")\n",
    "    sns.distplot(median_df[col], label = \"Median\")\n",
    "    sns.distplot(mauvais_df[col], label = \"Mauvais\")\n",
    "    plt.legend()"
   ]
  },
  {
   "cell_type": "markdown",
   "metadata": {},
   "source": [
    "## Developpement de piplines\n",
    "### Chargement de pipelines dans **sklearn**"
   ]
  },
  {
   "cell_type": "code",
   "execution_count": 9,
   "metadata": {
    "ExecuteTime": {
     "end_time": "2021-06-26T23:41:47.817828Z",
     "start_time": "2021-06-26T23:41:47.617811Z"
    }
   },
   "outputs": [],
   "source": [
    "from sklearn.model_selection import train_test_split, GridSearchCV\n",
    "from sklearn.pipeline import make_pipeline\n",
    "from sklearn.preprocessing import StandardScaler, OneHotEncoder, LabelEncoder\n",
    "from sklearn.compose import make_column_transformer\n",
    "from sklearn.neighbors import KNeighborsClassifier\n",
    "from sklearn.linear_model import SGDClassifier\n",
    "from sklearn.ensemble import RandomForestClassifier, AdaBoostClassifier\n",
    "from sklearn.svm import SVC\n",
    "from sklearn.metrics import accuracy_score, precision_score, recall_score, f1_score, confusion_matrix\n",
    "                            #justesse,      precision,      rappel,     f1score, matrice de confusion"
   ]
  },
  {
   "cell_type": "markdown",
   "metadata": {},
   "source": [
    "### Classer les données en features et en target"
   ]
  },
  {
   "cell_type": "code",
   "execution_count": 13,
   "metadata": {
    "ExecuteTime": {
     "end_time": "2021-06-26T23:46:39.465612Z",
     "start_time": "2021-06-26T23:46:39.404947Z"
    }
   },
   "outputs": [],
   "source": [
    "X = df.drop(\"Performance\", axis=1)\n",
    "y = df[\"Performance\"]"
   ]
  },
  {
   "cell_type": "markdown",
   "metadata": {},
   "source": [
    "### Encoder la target"
   ]
  },
  {
   "cell_type": "code",
   "execution_count": 14,
   "metadata": {
    "ExecuteTime": {
     "end_time": "2021-06-26T23:47:32.798087Z",
     "start_time": "2021-06-26T23:47:32.742717Z"
    }
   },
   "outputs": [],
   "source": [
    "transform = LabelEncoder()\n",
    "y = transform.fit_transform(y)"
   ]
  },
  {
   "cell_type": "markdown",
   "metadata": {},
   "source": [
    "### Scinder les deux goupes de données en:\n",
    "- **données d'entraiment: 70%** \n",
    "- **données de validation: 30%**"
   ]
  },
  {
   "cell_type": "code",
   "execution_count": 15,
   "metadata": {
    "ExecuteTime": {
     "end_time": "2021-06-26T23:52:01.812168Z",
     "start_time": "2021-06-26T23:52:01.648043Z"
    }
   },
   "outputs": [],
   "source": [
    "X_train, X_test, y_train, y_test = train_test_split(X, y, test_size = 0.3, random_state = 345)"
   ]
  },
  {
   "cell_type": "markdown",
   "metadata": {},
   "source": [
    "### Créer une variable contenant les noms de colonnes des valiables quantitatives et une \n",
    "### variable contenant les noms de colonnes des variables qualitatives\n",
    "\n",
    "### Creer deux pipelines contenant des transformers pour chacune des deux categories de variables crées pour les normalisées  et encodées\n",
    "\n",
    "### Créer un transformer contenant les deux premiers pipelines"
   ]
  },
  {
   "cell_type": "code",
   "execution_count": 16,
   "metadata": {
    "ExecuteTime": {
     "end_time": "2021-06-27T00:01:15.998830Z",
     "start_time": "2021-06-27T00:01:15.988185Z"
    }
   },
   "outputs": [],
   "source": [
    "numerical_var = ['Qte', 'PrixUnit', 'MontantVentes','PoidsNet', 'Cout']\n",
    "categorical_var = ['NumeroFacture', 'Produits', 'Groupes', 'Categories', 'Status',\n",
    "       'SecteurActivites', 'Ville', 'PersonneV', 'GenrePv', 'Superviseur',\n",
    "       'GenreSup', 'Manager', 'GenreMger', 'Equipe']"
   ]
  },
  {
   "cell_type": "code",
   "execution_count": 17,
   "metadata": {
    "ExecuteTime": {
     "end_time": "2021-06-27T00:01:17.219315Z",
     "start_time": "2021-06-27T00:01:17.216339Z"
    }
   },
   "outputs": [],
   "source": [
    "numerical_pipeline = make_pipeline(StandardScaler())"
   ]
  },
  {
   "cell_type": "code",
   "execution_count": 18,
   "metadata": {
    "ExecuteTime": {
     "end_time": "2021-06-27T00:01:19.909765Z",
     "start_time": "2021-06-27T00:01:19.897769Z"
    }
   },
   "outputs": [],
   "source": [
    "categorila_pipeline = make_pipeline(OneHotEncoder())"
   ]
  },
  {
   "cell_type": "code",
   "execution_count": 19,
   "metadata": {
    "ExecuteTime": {
     "end_time": "2021-06-27T00:01:27.467172Z",
     "start_time": "2021-06-27T00:01:27.458533Z"
    }
   },
   "outputs": [],
   "source": [
    "preprocessor = make_column_transformer((numerical_pipeline, numerical_var), \n",
    "                                       (categorila_pipeline, categorical_var))"
   ]
  },
  {
   "cell_type": "code",
   "execution_count": 20,
   "metadata": {
    "ExecuteTime": {
     "end_time": "2021-06-27T00:01:45.338457Z",
     "start_time": "2021-06-27T00:01:45.300463Z"
    }
   },
   "outputs": [
    {
     "data": {
      "text/plain": [
       "<bound method ColumnTransformer.fit_transform of ColumnTransformer(transformers=[('pipeline-1',\n",
       "                                 Pipeline(steps=[('standardscaler',\n",
       "                                                  StandardScaler())]),\n",
       "                                 ['Qte', 'PrixUnit', 'MontantVentes',\n",
       "                                  'PoidsNet', 'Cout']),\n",
       "                                ('pipeline-2',\n",
       "                                 Pipeline(steps=[('onehotencoder',\n",
       "                                                  OneHotEncoder())]),\n",
       "                                 ['NumeroFacture', 'Produits', 'Groupes',\n",
       "                                  'Categories', 'Status', 'SecteurActivites',\n",
       "                                  'Ville', 'PersonneV', 'GenrePv',\n",
       "                                  'Superviseur', 'GenreSup', 'Manager',\n",
       "                                  'GenreMger', 'Equipe'])])>"
      ]
     },
     "execution_count": 20,
     "metadata": {},
     "output_type": "execute_result"
    }
   ],
   "source": [
    "preprocessor.fit_transform"
   ]
  },
  {
   "cell_type": "markdown",
   "metadata": {},
   "source": [
    "### Créer une pipeline contenant le transformer complet et differents estimaters"
   ]
  },
  {
   "cell_type": "code",
   "execution_count": null,
   "metadata": {},
   "outputs": [],
   "source": [
    "# les differents models à tester\n",
    "#KNN = make_pipeline(preprocessor, KNeighborsClassifier())\n",
    "SGDC = make_pipeline(preprocessor, SGDClassifier())\n",
    "RandomForest = make_pipeline(preprocessor, RandomForestClassifier())\n",
    "#Adaboost = make_pipeline(preprocessor, AdaboostClassifier())\n",
    "SVM = make_pipeline(preprocessor, SVC())"
   ]
  },
  {
   "cell_type": "code",
   "execution_count": null,
   "metadata": {},
   "outputs": [],
   "source": [
    "dic_des_models = {\n",
    "    'SGDC': SGDC,\n",
    "    'RandomForest': RandomForest,\n",
    "    #'KNN': KNN,\n",
    "    #'Adaboost': Adaboost,\n",
    "    'SVM': SVM\n",
    "}"
   ]
  },
  {
   "cell_type": "markdown",
   "metadata": {},
   "source": [
    "### SGDClassifier est le seul qui semble marcher"
   ]
  },
  {
   "cell_type": "code",
   "execution_count": 21,
   "metadata": {
    "ExecuteTime": {
     "end_time": "2021-06-27T00:03:59.607961Z",
     "start_time": "2021-06-27T00:03:59.596826Z"
    }
   },
   "outputs": [],
   "source": [
    "model = make_pipeline(preprocessor, \n",
    "              SGDClassifier())"
   ]
  },
  {
   "cell_type": "markdown",
   "metadata": {},
   "source": [
    "### Entrainer notre model avec les données d'entrainement"
   ]
  },
  {
   "cell_type": "code",
   "execution_count": 23,
   "metadata": {
    "ExecuteTime": {
     "end_time": "2021-06-27T00:06:30.600632Z",
     "start_time": "2021-06-27T00:06:26.692142Z"
    }
   },
   "outputs": [
    {
     "data": {
      "text/plain": [
       "Pipeline(steps=[('columntransformer',\n",
       "                 ColumnTransformer(transformers=[('pipeline-1',\n",
       "                                                  Pipeline(steps=[('standardscaler',\n",
       "                                                                   StandardScaler())]),\n",
       "                                                  ['Qte', 'PrixUnit',\n",
       "                                                   'MontantVentes', 'PoidsNet',\n",
       "                                                   'Cout']),\n",
       "                                                 ('pipeline-2',\n",
       "                                                  Pipeline(steps=[('onehotencoder',\n",
       "                                                                   OneHotEncoder())]),\n",
       "                                                  ['NumeroFacture', 'Produits',\n",
       "                                                   'Groupes', 'Categories',\n",
       "                                                   'Status', 'SecteurActivites',\n",
       "                                                   'Ville', 'PersonneV',\n",
       "                                                   'GenrePv', 'Superviseur',\n",
       "                                                   'GenreSup', 'Manager',\n",
       "                                                   'GenreMger', 'Equipe'])])),\n",
       "                ('sgdclassifier', SGDClassifier())])"
      ]
     },
     "execution_count": 23,
     "metadata": {},
     "output_type": "execute_result"
    }
   ],
   "source": [
    "model.fit(X_train, y_train)"
   ]
  },
  {
   "cell_type": "markdown",
   "metadata": {},
   "source": [
    "### Score du model à l'entrainement"
   ]
  },
  {
   "cell_type": "code",
   "execution_count": 24,
   "metadata": {
    "ExecuteTime": {
     "end_time": "2021-06-27T00:07:15.575236Z",
     "start_time": "2021-06-27T00:07:14.813611Z"
    }
   },
   "outputs": [
    {
     "data": {
      "text/plain": [
       "0.7965034849808038"
      ]
     },
     "execution_count": 24,
     "metadata": {},
     "output_type": "execute_result"
    }
   ],
   "source": [
    "model.score(X_train, y_train)"
   ]
  },
  {
   "cell_type": "markdown",
   "metadata": {},
   "source": [
    "### preprocessing des données de validation avec le même transformer complet"
   ]
  },
  {
   "cell_type": "code",
   "execution_count": 25,
   "metadata": {
    "ExecuteTime": {
     "end_time": "2021-06-27T00:08:52.767340Z",
     "start_time": "2021-06-27T00:08:52.350164Z"
    }
   },
   "outputs": [],
   "source": [
    "X_test = preprocessor.fit_transform(X_test)"
   ]
  },
  {
   "cell_type": "code",
   "execution_count": 26,
   "metadata": {
    "ExecuteTime": {
     "end_time": "2021-06-27T00:09:19.468455Z",
     "start_time": "2021-06-27T00:09:19.325932Z"
    }
   },
   "outputs": [
    {
     "name": "stderr",
     "output_type": "stream",
     "text": [
      "C:\\Users\\Hamaya\\anaconda3\\lib\\site-packages\\sklearn\\compose\\_column_transformer.py:437: FutureWarning: Given feature/column names or counts do not match the ones for the data given during fit. This will fail from v0.24.\n",
      "  warnings.warn(\"Given feature/column names or counts do not match \"\n"
     ]
    },
    {
     "ename": "ValueError",
     "evalue": "Specifying the columns using strings is only supported for pandas DataFrames",
     "output_type": "error",
     "traceback": [
      "\u001b[1;31m---------------------------------------------------------------------------\u001b[0m",
      "\u001b[1;31mEmpty\u001b[0m                                     Traceback (most recent call last)",
      "\u001b[1;32m~\\anaconda3\\lib\\site-packages\\joblib\\parallel.py\u001b[0m in \u001b[0;36mdispatch_one_batch\u001b[1;34m(self, iterator)\u001b[0m\n\u001b[0;32m    807\u001b[0m             \u001b[1;32mtry\u001b[0m\u001b[1;33m:\u001b[0m\u001b[1;33m\u001b[0m\u001b[1;33m\u001b[0m\u001b[0m\n\u001b[1;32m--> 808\u001b[1;33m                 \u001b[0mtasks\u001b[0m \u001b[1;33m=\u001b[0m \u001b[0mself\u001b[0m\u001b[1;33m.\u001b[0m\u001b[0m_ready_batches\u001b[0m\u001b[1;33m.\u001b[0m\u001b[0mget\u001b[0m\u001b[1;33m(\u001b[0m\u001b[0mblock\u001b[0m\u001b[1;33m=\u001b[0m\u001b[1;32mFalse\u001b[0m\u001b[1;33m)\u001b[0m\u001b[1;33m\u001b[0m\u001b[1;33m\u001b[0m\u001b[0m\n\u001b[0m\u001b[0;32m    809\u001b[0m             \u001b[1;32mexcept\u001b[0m \u001b[0mqueue\u001b[0m\u001b[1;33m.\u001b[0m\u001b[0mEmpty\u001b[0m\u001b[1;33m:\u001b[0m\u001b[1;33m\u001b[0m\u001b[1;33m\u001b[0m\u001b[0m\n",
      "\u001b[1;32m~\\anaconda3\\lib\\queue.py\u001b[0m in \u001b[0;36mget\u001b[1;34m(self, block, timeout)\u001b[0m\n\u001b[0;32m    166\u001b[0m                 \u001b[1;32mif\u001b[0m \u001b[1;32mnot\u001b[0m \u001b[0mself\u001b[0m\u001b[1;33m.\u001b[0m\u001b[0m_qsize\u001b[0m\u001b[1;33m(\u001b[0m\u001b[1;33m)\u001b[0m\u001b[1;33m:\u001b[0m\u001b[1;33m\u001b[0m\u001b[1;33m\u001b[0m\u001b[0m\n\u001b[1;32m--> 167\u001b[1;33m                     \u001b[1;32mraise\u001b[0m \u001b[0mEmpty\u001b[0m\u001b[1;33m\u001b[0m\u001b[1;33m\u001b[0m\u001b[0m\n\u001b[0m\u001b[0;32m    168\u001b[0m             \u001b[1;32melif\u001b[0m \u001b[0mtimeout\u001b[0m \u001b[1;32mis\u001b[0m \u001b[1;32mNone\u001b[0m\u001b[1;33m:\u001b[0m\u001b[1;33m\u001b[0m\u001b[1;33m\u001b[0m\u001b[0m\n",
      "\u001b[1;31mEmpty\u001b[0m: ",
      "\nDuring handling of the above exception, another exception occurred:\n",
      "\u001b[1;31mValueError\u001b[0m                                Traceback (most recent call last)",
      "\u001b[1;32m<ipython-input-26-aaa086f85e42>\u001b[0m in \u001b[0;36m<module>\u001b[1;34m\u001b[0m\n\u001b[1;32m----> 1\u001b[1;33m \u001b[0my_pred\u001b[0m \u001b[1;33m=\u001b[0m \u001b[0mmodel\u001b[0m\u001b[1;33m.\u001b[0m\u001b[0mpredict\u001b[0m\u001b[1;33m(\u001b[0m\u001b[0mX_test\u001b[0m\u001b[1;33m)\u001b[0m\u001b[1;33m\u001b[0m\u001b[1;33m\u001b[0m\u001b[0m\n\u001b[0m\u001b[0;32m      2\u001b[0m \u001b[0mf1_score\u001b[0m\u001b[1;33m(\u001b[0m\u001b[0my_test\u001b[0m\u001b[1;33m,\u001b[0m \u001b[0my_pred\u001b[0m\u001b[1;33m)\u001b[0m\u001b[1;33m\u001b[0m\u001b[1;33m\u001b[0m\u001b[0m\n",
      "\u001b[1;32m~\\anaconda3\\lib\\site-packages\\sklearn\\utils\\metaestimators.py\u001b[0m in \u001b[0;36m<lambda>\u001b[1;34m(*args, **kwargs)\u001b[0m\n\u001b[0;32m    117\u001b[0m \u001b[1;33m\u001b[0m\u001b[0m\n\u001b[0;32m    118\u001b[0m         \u001b[1;31m# lambda, but not partial, allows help() to work with update_wrapper\u001b[0m\u001b[1;33m\u001b[0m\u001b[1;33m\u001b[0m\u001b[1;33m\u001b[0m\u001b[0m\n\u001b[1;32m--> 119\u001b[1;33m         \u001b[0mout\u001b[0m \u001b[1;33m=\u001b[0m \u001b[1;32mlambda\u001b[0m \u001b[1;33m*\u001b[0m\u001b[0margs\u001b[0m\u001b[1;33m,\u001b[0m \u001b[1;33m**\u001b[0m\u001b[0mkwargs\u001b[0m\u001b[1;33m:\u001b[0m \u001b[0mself\u001b[0m\u001b[1;33m.\u001b[0m\u001b[0mfn\u001b[0m\u001b[1;33m(\u001b[0m\u001b[0mobj\u001b[0m\u001b[1;33m,\u001b[0m \u001b[1;33m*\u001b[0m\u001b[0margs\u001b[0m\u001b[1;33m,\u001b[0m \u001b[1;33m**\u001b[0m\u001b[0mkwargs\u001b[0m\u001b[1;33m)\u001b[0m\u001b[1;33m\u001b[0m\u001b[1;33m\u001b[0m\u001b[0m\n\u001b[0m\u001b[0;32m    120\u001b[0m         \u001b[1;31m# update the docstring of the returned function\u001b[0m\u001b[1;33m\u001b[0m\u001b[1;33m\u001b[0m\u001b[1;33m\u001b[0m\u001b[0m\n\u001b[0;32m    121\u001b[0m         \u001b[0mupdate_wrapper\u001b[0m\u001b[1;33m(\u001b[0m\u001b[0mout\u001b[0m\u001b[1;33m,\u001b[0m \u001b[0mself\u001b[0m\u001b[1;33m.\u001b[0m\u001b[0mfn\u001b[0m\u001b[1;33m)\u001b[0m\u001b[1;33m\u001b[0m\u001b[1;33m\u001b[0m\u001b[0m\n",
      "\u001b[1;32m~\\anaconda3\\lib\\site-packages\\sklearn\\pipeline.py\u001b[0m in \u001b[0;36mpredict\u001b[1;34m(self, X, **predict_params)\u001b[0m\n\u001b[0;32m    405\u001b[0m         \u001b[0mXt\u001b[0m \u001b[1;33m=\u001b[0m \u001b[0mX\u001b[0m\u001b[1;33m\u001b[0m\u001b[1;33m\u001b[0m\u001b[0m\n\u001b[0;32m    406\u001b[0m         \u001b[1;32mfor\u001b[0m \u001b[0m_\u001b[0m\u001b[1;33m,\u001b[0m \u001b[0mname\u001b[0m\u001b[1;33m,\u001b[0m \u001b[0mtransform\u001b[0m \u001b[1;32min\u001b[0m \u001b[0mself\u001b[0m\u001b[1;33m.\u001b[0m\u001b[0m_iter\u001b[0m\u001b[1;33m(\u001b[0m\u001b[0mwith_final\u001b[0m\u001b[1;33m=\u001b[0m\u001b[1;32mFalse\u001b[0m\u001b[1;33m)\u001b[0m\u001b[1;33m:\u001b[0m\u001b[1;33m\u001b[0m\u001b[1;33m\u001b[0m\u001b[0m\n\u001b[1;32m--> 407\u001b[1;33m             \u001b[0mXt\u001b[0m \u001b[1;33m=\u001b[0m \u001b[0mtransform\u001b[0m\u001b[1;33m.\u001b[0m\u001b[0mtransform\u001b[0m\u001b[1;33m(\u001b[0m\u001b[0mXt\u001b[0m\u001b[1;33m)\u001b[0m\u001b[1;33m\u001b[0m\u001b[1;33m\u001b[0m\u001b[0m\n\u001b[0m\u001b[0;32m    408\u001b[0m         \u001b[1;32mreturn\u001b[0m \u001b[0mself\u001b[0m\u001b[1;33m.\u001b[0m\u001b[0msteps\u001b[0m\u001b[1;33m[\u001b[0m\u001b[1;33m-\u001b[0m\u001b[1;36m1\u001b[0m\u001b[1;33m]\u001b[0m\u001b[1;33m[\u001b[0m\u001b[1;33m-\u001b[0m\u001b[1;36m1\u001b[0m\u001b[1;33m]\u001b[0m\u001b[1;33m.\u001b[0m\u001b[0mpredict\u001b[0m\u001b[1;33m(\u001b[0m\u001b[0mXt\u001b[0m\u001b[1;33m,\u001b[0m \u001b[1;33m**\u001b[0m\u001b[0mpredict_params\u001b[0m\u001b[1;33m)\u001b[0m\u001b[1;33m\u001b[0m\u001b[1;33m\u001b[0m\u001b[0m\n\u001b[0;32m    409\u001b[0m \u001b[1;33m\u001b[0m\u001b[0m\n",
      "\u001b[1;32m~\\anaconda3\\lib\\site-packages\\sklearn\\compose\\_column_transformer.py\u001b[0m in \u001b[0;36mtransform\u001b[1;34m(self, X)\u001b[0m\n\u001b[0;32m    602\u001b[0m         \u001b[1;31m# TODO: also call _check_n_features(reset=False) in 0.24\u001b[0m\u001b[1;33m\u001b[0m\u001b[1;33m\u001b[0m\u001b[1;33m\u001b[0m\u001b[0m\n\u001b[0;32m    603\u001b[0m         \u001b[0mself\u001b[0m\u001b[1;33m.\u001b[0m\u001b[0m_validate_features\u001b[0m\u001b[1;33m(\u001b[0m\u001b[0mX\u001b[0m\u001b[1;33m.\u001b[0m\u001b[0mshape\u001b[0m\u001b[1;33m[\u001b[0m\u001b[1;36m1\u001b[0m\u001b[1;33m]\u001b[0m\u001b[1;33m,\u001b[0m \u001b[0mX_feature_names\u001b[0m\u001b[1;33m)\u001b[0m\u001b[1;33m\u001b[0m\u001b[1;33m\u001b[0m\u001b[0m\n\u001b[1;32m--> 604\u001b[1;33m         \u001b[0mXs\u001b[0m \u001b[1;33m=\u001b[0m \u001b[0mself\u001b[0m\u001b[1;33m.\u001b[0m\u001b[0m_fit_transform\u001b[0m\u001b[1;33m(\u001b[0m\u001b[0mX\u001b[0m\u001b[1;33m,\u001b[0m \u001b[1;32mNone\u001b[0m\u001b[1;33m,\u001b[0m \u001b[0m_transform_one\u001b[0m\u001b[1;33m,\u001b[0m \u001b[0mfitted\u001b[0m\u001b[1;33m=\u001b[0m\u001b[1;32mTrue\u001b[0m\u001b[1;33m)\u001b[0m\u001b[1;33m\u001b[0m\u001b[1;33m\u001b[0m\u001b[0m\n\u001b[0m\u001b[0;32m    605\u001b[0m         \u001b[0mself\u001b[0m\u001b[1;33m.\u001b[0m\u001b[0m_validate_output\u001b[0m\u001b[1;33m(\u001b[0m\u001b[0mXs\u001b[0m\u001b[1;33m)\u001b[0m\u001b[1;33m\u001b[0m\u001b[1;33m\u001b[0m\u001b[0m\n\u001b[0;32m    606\u001b[0m \u001b[1;33m\u001b[0m\u001b[0m\n",
      "\u001b[1;32m~\\anaconda3\\lib\\site-packages\\sklearn\\compose\\_column_transformer.py\u001b[0m in \u001b[0;36m_fit_transform\u001b[1;34m(self, X, y, func, fitted)\u001b[0m\n\u001b[0;32m    456\u001b[0m             self._iter(fitted=fitted, replace_strings=True))\n\u001b[0;32m    457\u001b[0m         \u001b[1;32mtry\u001b[0m\u001b[1;33m:\u001b[0m\u001b[1;33m\u001b[0m\u001b[1;33m\u001b[0m\u001b[0m\n\u001b[1;32m--> 458\u001b[1;33m             return Parallel(n_jobs=self.n_jobs)(\n\u001b[0m\u001b[0;32m    459\u001b[0m                 delayed(func)(\n\u001b[0;32m    460\u001b[0m                     \u001b[0mtransformer\u001b[0m\u001b[1;33m=\u001b[0m\u001b[0mclone\u001b[0m\u001b[1;33m(\u001b[0m\u001b[0mtrans\u001b[0m\u001b[1;33m)\u001b[0m \u001b[1;32mif\u001b[0m \u001b[1;32mnot\u001b[0m \u001b[0mfitted\u001b[0m \u001b[1;32melse\u001b[0m \u001b[0mtrans\u001b[0m\u001b[1;33m,\u001b[0m\u001b[1;33m\u001b[0m\u001b[1;33m\u001b[0m\u001b[0m\n",
      "\u001b[1;32m~\\anaconda3\\lib\\site-packages\\joblib\\parallel.py\u001b[0m in \u001b[0;36m__call__\u001b[1;34m(self, iterable)\u001b[0m\n\u001b[0;32m   1027\u001b[0m             \u001b[1;31m# remaining jobs.\u001b[0m\u001b[1;33m\u001b[0m\u001b[1;33m\u001b[0m\u001b[1;33m\u001b[0m\u001b[0m\n\u001b[0;32m   1028\u001b[0m             \u001b[0mself\u001b[0m\u001b[1;33m.\u001b[0m\u001b[0m_iterating\u001b[0m \u001b[1;33m=\u001b[0m \u001b[1;32mFalse\u001b[0m\u001b[1;33m\u001b[0m\u001b[1;33m\u001b[0m\u001b[0m\n\u001b[1;32m-> 1029\u001b[1;33m             \u001b[1;32mif\u001b[0m \u001b[0mself\u001b[0m\u001b[1;33m.\u001b[0m\u001b[0mdispatch_one_batch\u001b[0m\u001b[1;33m(\u001b[0m\u001b[0miterator\u001b[0m\u001b[1;33m)\u001b[0m\u001b[1;33m:\u001b[0m\u001b[1;33m\u001b[0m\u001b[1;33m\u001b[0m\u001b[0m\n\u001b[0m\u001b[0;32m   1030\u001b[0m                 \u001b[0mself\u001b[0m\u001b[1;33m.\u001b[0m\u001b[0m_iterating\u001b[0m \u001b[1;33m=\u001b[0m \u001b[0mself\u001b[0m\u001b[1;33m.\u001b[0m\u001b[0m_original_iterator\u001b[0m \u001b[1;32mis\u001b[0m \u001b[1;32mnot\u001b[0m \u001b[1;32mNone\u001b[0m\u001b[1;33m\u001b[0m\u001b[1;33m\u001b[0m\u001b[0m\n\u001b[0;32m   1031\u001b[0m \u001b[1;33m\u001b[0m\u001b[0m\n",
      "\u001b[1;32m~\\anaconda3\\lib\\site-packages\\joblib\\parallel.py\u001b[0m in \u001b[0;36mdispatch_one_batch\u001b[1;34m(self, iterator)\u001b[0m\n\u001b[0;32m    817\u001b[0m                 \u001b[0mbig_batch_size\u001b[0m \u001b[1;33m=\u001b[0m \u001b[0mbatch_size\u001b[0m \u001b[1;33m*\u001b[0m \u001b[0mn_jobs\u001b[0m\u001b[1;33m\u001b[0m\u001b[1;33m\u001b[0m\u001b[0m\n\u001b[0;32m    818\u001b[0m \u001b[1;33m\u001b[0m\u001b[0m\n\u001b[1;32m--> 819\u001b[1;33m                 \u001b[0mislice\u001b[0m \u001b[1;33m=\u001b[0m \u001b[0mlist\u001b[0m\u001b[1;33m(\u001b[0m\u001b[0mitertools\u001b[0m\u001b[1;33m.\u001b[0m\u001b[0mislice\u001b[0m\u001b[1;33m(\u001b[0m\u001b[0miterator\u001b[0m\u001b[1;33m,\u001b[0m \u001b[0mbig_batch_size\u001b[0m\u001b[1;33m)\u001b[0m\u001b[1;33m)\u001b[0m\u001b[1;33m\u001b[0m\u001b[1;33m\u001b[0m\u001b[0m\n\u001b[0m\u001b[0;32m    820\u001b[0m                 \u001b[1;32mif\u001b[0m \u001b[0mlen\u001b[0m\u001b[1;33m(\u001b[0m\u001b[0mislice\u001b[0m\u001b[1;33m)\u001b[0m \u001b[1;33m==\u001b[0m \u001b[1;36m0\u001b[0m\u001b[1;33m:\u001b[0m\u001b[1;33m\u001b[0m\u001b[1;33m\u001b[0m\u001b[0m\n\u001b[0;32m    821\u001b[0m                     \u001b[1;32mreturn\u001b[0m \u001b[1;32mFalse\u001b[0m\u001b[1;33m\u001b[0m\u001b[1;33m\u001b[0m\u001b[0m\n",
      "\u001b[1;32m~\\anaconda3\\lib\\site-packages\\sklearn\\compose\\_column_transformer.py\u001b[0m in \u001b[0;36m<genexpr>\u001b[1;34m(.0)\u001b[0m\n\u001b[0;32m    459\u001b[0m                 delayed(func)(\n\u001b[0;32m    460\u001b[0m                     \u001b[0mtransformer\u001b[0m\u001b[1;33m=\u001b[0m\u001b[0mclone\u001b[0m\u001b[1;33m(\u001b[0m\u001b[0mtrans\u001b[0m\u001b[1;33m)\u001b[0m \u001b[1;32mif\u001b[0m \u001b[1;32mnot\u001b[0m \u001b[0mfitted\u001b[0m \u001b[1;32melse\u001b[0m \u001b[0mtrans\u001b[0m\u001b[1;33m,\u001b[0m\u001b[1;33m\u001b[0m\u001b[1;33m\u001b[0m\u001b[0m\n\u001b[1;32m--> 461\u001b[1;33m                     \u001b[0mX\u001b[0m\u001b[1;33m=\u001b[0m\u001b[0m_safe_indexing\u001b[0m\u001b[1;33m(\u001b[0m\u001b[0mX\u001b[0m\u001b[1;33m,\u001b[0m \u001b[0mcolumn\u001b[0m\u001b[1;33m,\u001b[0m \u001b[0maxis\u001b[0m\u001b[1;33m=\u001b[0m\u001b[1;36m1\u001b[0m\u001b[1;33m)\u001b[0m\u001b[1;33m,\u001b[0m\u001b[1;33m\u001b[0m\u001b[1;33m\u001b[0m\u001b[0m\n\u001b[0m\u001b[0;32m    462\u001b[0m                     \u001b[0my\u001b[0m\u001b[1;33m=\u001b[0m\u001b[0my\u001b[0m\u001b[1;33m,\u001b[0m\u001b[1;33m\u001b[0m\u001b[1;33m\u001b[0m\u001b[0m\n\u001b[0;32m    463\u001b[0m                     \u001b[0mweight\u001b[0m\u001b[1;33m=\u001b[0m\u001b[0mweight\u001b[0m\u001b[1;33m,\u001b[0m\u001b[1;33m\u001b[0m\u001b[1;33m\u001b[0m\u001b[0m\n",
      "\u001b[1;32m~\\anaconda3\\lib\\site-packages\\sklearn\\utils\\__init__.py\u001b[0m in \u001b[0;36m_safe_indexing\u001b[1;34m(X, indices, axis)\u001b[0m\n\u001b[0;32m    385\u001b[0m \u001b[1;33m\u001b[0m\u001b[0m\n\u001b[0;32m    386\u001b[0m     \u001b[1;32mif\u001b[0m \u001b[0maxis\u001b[0m \u001b[1;33m==\u001b[0m \u001b[1;36m1\u001b[0m \u001b[1;32mand\u001b[0m \u001b[0mindices_dtype\u001b[0m \u001b[1;33m==\u001b[0m \u001b[1;34m'str'\u001b[0m \u001b[1;32mand\u001b[0m \u001b[1;32mnot\u001b[0m \u001b[0mhasattr\u001b[0m\u001b[1;33m(\u001b[0m\u001b[0mX\u001b[0m\u001b[1;33m,\u001b[0m \u001b[1;34m'loc'\u001b[0m\u001b[1;33m)\u001b[0m\u001b[1;33m:\u001b[0m\u001b[1;33m\u001b[0m\u001b[1;33m\u001b[0m\u001b[0m\n\u001b[1;32m--> 387\u001b[1;33m         raise ValueError(\n\u001b[0m\u001b[0;32m    388\u001b[0m             \u001b[1;34m\"Specifying the columns using strings is only supported for \"\u001b[0m\u001b[1;33m\u001b[0m\u001b[1;33m\u001b[0m\u001b[0m\n\u001b[0;32m    389\u001b[0m             \u001b[1;34m\"pandas DataFrames\"\u001b[0m\u001b[1;33m\u001b[0m\u001b[1;33m\u001b[0m\u001b[0m\n",
      "\u001b[1;31mValueError\u001b[0m: Specifying the columns using strings is only supported for pandas DataFrames"
     ]
    }
   ],
   "source": [
    "y_pred = model.predict(X_test)\n",
    "f1_score(y_test, y_pred)"
   ]
  }
 ],
 "metadata": {
  "kernelspec": {
   "display_name": "Python 3 (ipykernel)",
   "language": "python",
   "name": "python3"
  },
  "language_info": {
   "codemirror_mode": {
    "name": "ipython",
    "version": 3
   },
   "file_extension": ".py",
   "mimetype": "text/x-python",
   "name": "python",
   "nbconvert_exporter": "python",
   "pygments_lexer": "ipython3",
   "version": "3.9.13"
  },
  "toc": {
   "base_numbering": 1,
   "nav_menu": {},
   "number_sections": true,
   "sideBar": true,
   "skip_h1_title": false,
   "title_cell": "Table of Contents",
   "title_sidebar": "Contents",
   "toc_cell": false,
   "toc_position": {},
   "toc_section_display": true,
   "toc_window_display": false
  }
 },
 "nbformat": 4,
 "nbformat_minor": 4
}
